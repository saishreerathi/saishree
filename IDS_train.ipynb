{
 "cells": [
  {
   "cell_type": "code",
   "execution_count": 2,
   "metadata": {
    "editable": false
   },
   "outputs": [],
   "source": [
    "import pandas as pd\n",
    "import numpy as np\n",
    "from sklearn.model_selection import train_test_split\n",
    "from sklearn.ensemble import RandomForestClassifier\n",
    "from sklearn.preprocessing import MinMaxScaler\n",
    "from sklearn.metrics import accuracy_score, precision_score, recall_score, confusion_matrix\n",
    "\n",
    "from sklearn.metrics import ConfusionMatrixDisplay\n",
    "from sklearn.metrics import f1_score\n",
    "\n",
    "from scipy.stats import randint\n",
    "from sklearn.model_selection import RandomizedSearchCV\n",
    "import joblib\n",
    "import matplotlib.pyplot as plt\n",
    "import os"
   ]
  },
  {
   "cell_type": "code",
   "execution_count": 3,
   "metadata": {
    "editable": false,
    "execution": {
     "iopub.execute_input": "2024-06-05T07:19:17.718257Z",
     "iopub.status.busy": "2024-06-05T07:19:17.717736Z",
     "iopub.status.idle": "2024-06-05T07:19:19.086287Z",
     "shell.execute_reply": "2024-06-05T07:19:19.084904Z",
     "shell.execute_reply.started": "2024-06-05T07:19:17.718219Z"
    }
   },
   "outputs": [
    {
     "data": {
      "text/plain": "   duration protocol_type   service flag  src_bytes  dst_bytes  land  \\\n0         0           tcp  ftp_data   SF        491          0     0   \n1         0           udp     other   SF        146          0     0   \n2         0           tcp   private   S0          0          0     0   \n3         0           tcp      http   SF        232       8153     0   \n4         0           tcp      http   SF        199        420     0   \n\n   wrong_fragment  urgent  hot  ...  dst_host_same_srv_rate  \\\n0               0       0    0  ...                    0.17   \n1               0       0    0  ...                    0.00   \n2               0       0    0  ...                    0.10   \n3               0       0    0  ...                    1.00   \n4               0       0    0  ...                    1.00   \n\n   dst_host_diff_srv_rate  dst_host_same_src_port_rate  \\\n0                    0.03                         0.17   \n1                    0.60                         0.88   \n2                    0.05                         0.00   \n3                    0.00                         0.03   \n4                    0.00                         0.00   \n\n   dst_host_srv_diff_host_rate  dst_host_serror_rate  \\\n0                         0.00                  0.00   \n1                         0.00                  0.00   \n2                         0.00                  1.00   \n3                         0.04                  0.03   \n4                         0.00                  0.00   \n\n   dst_host_srv_serror_rate  dst_host_rerror_rate  dst_host_srv_rerror_rate  \\\n0                      0.00                  0.05                      0.00   \n1                      0.00                  0.00                      0.00   \n2                      1.00                  0.00                      0.00   \n3                      0.01                  0.00                      0.01   \n4                      0.00                  0.00                      0.00   \n\n     class  target  \n0   normal      20  \n1   normal      15  \n2  neptune      19  \n3   normal      21  \n4   normal      21  \n\n[5 rows x 43 columns]",
      "text/html": "<div>\n<style scoped>\n    .dataframe tbody tr th:only-of-type {\n        vertical-align: middle;\n    }\n\n    .dataframe tbody tr th {\n        vertical-align: top;\n    }\n\n    .dataframe thead th {\n        text-align: right;\n    }\n</style>\n<table border=\"1\" class=\"dataframe\">\n  <thead>\n    <tr style=\"text-align: right;\">\n      <th></th>\n      <th>duration</th>\n      <th>protocol_type</th>\n      <th>service</th>\n      <th>flag</th>\n      <th>src_bytes</th>\n      <th>dst_bytes</th>\n      <th>land</th>\n      <th>wrong_fragment</th>\n      <th>urgent</th>\n      <th>hot</th>\n      <th>...</th>\n      <th>dst_host_same_srv_rate</th>\n      <th>dst_host_diff_srv_rate</th>\n      <th>dst_host_same_src_port_rate</th>\n      <th>dst_host_srv_diff_host_rate</th>\n      <th>dst_host_serror_rate</th>\n      <th>dst_host_srv_serror_rate</th>\n      <th>dst_host_rerror_rate</th>\n      <th>dst_host_srv_rerror_rate</th>\n      <th>class</th>\n      <th>target</th>\n    </tr>\n  </thead>\n  <tbody>\n    <tr>\n      <th>0</th>\n      <td>0</td>\n      <td>tcp</td>\n      <td>ftp_data</td>\n      <td>SF</td>\n      <td>491</td>\n      <td>0</td>\n      <td>0</td>\n      <td>0</td>\n      <td>0</td>\n      <td>0</td>\n      <td>...</td>\n      <td>0.17</td>\n      <td>0.03</td>\n      <td>0.17</td>\n      <td>0.00</td>\n      <td>0.00</td>\n      <td>0.00</td>\n      <td>0.05</td>\n      <td>0.00</td>\n      <td>normal</td>\n      <td>20</td>\n    </tr>\n    <tr>\n      <th>1</th>\n      <td>0</td>\n      <td>udp</td>\n      <td>other</td>\n      <td>SF</td>\n      <td>146</td>\n      <td>0</td>\n      <td>0</td>\n      <td>0</td>\n      <td>0</td>\n      <td>0</td>\n      <td>...</td>\n      <td>0.00</td>\n      <td>0.60</td>\n      <td>0.88</td>\n      <td>0.00</td>\n      <td>0.00</td>\n      <td>0.00</td>\n      <td>0.00</td>\n      <td>0.00</td>\n      <td>normal</td>\n      <td>15</td>\n    </tr>\n    <tr>\n      <th>2</th>\n      <td>0</td>\n      <td>tcp</td>\n      <td>private</td>\n      <td>S0</td>\n      <td>0</td>\n      <td>0</td>\n      <td>0</td>\n      <td>0</td>\n      <td>0</td>\n      <td>0</td>\n      <td>...</td>\n      <td>0.10</td>\n      <td>0.05</td>\n      <td>0.00</td>\n      <td>0.00</td>\n      <td>1.00</td>\n      <td>1.00</td>\n      <td>0.00</td>\n      <td>0.00</td>\n      <td>neptune</td>\n      <td>19</td>\n    </tr>\n    <tr>\n      <th>3</th>\n      <td>0</td>\n      <td>tcp</td>\n      <td>http</td>\n      <td>SF</td>\n      <td>232</td>\n      <td>8153</td>\n      <td>0</td>\n      <td>0</td>\n      <td>0</td>\n      <td>0</td>\n      <td>...</td>\n      <td>1.00</td>\n      <td>0.00</td>\n      <td>0.03</td>\n      <td>0.04</td>\n      <td>0.03</td>\n      <td>0.01</td>\n      <td>0.00</td>\n      <td>0.01</td>\n      <td>normal</td>\n      <td>21</td>\n    </tr>\n    <tr>\n      <th>4</th>\n      <td>0</td>\n      <td>tcp</td>\n      <td>http</td>\n      <td>SF</td>\n      <td>199</td>\n      <td>420</td>\n      <td>0</td>\n      <td>0</td>\n      <td>0</td>\n      <td>0</td>\n      <td>...</td>\n      <td>1.00</td>\n      <td>0.00</td>\n      <td>0.00</td>\n      <td>0.00</td>\n      <td>0.00</td>\n      <td>0.00</td>\n      <td>0.00</td>\n      <td>0.00</td>\n      <td>normal</td>\n      <td>21</td>\n    </tr>\n  </tbody>\n</table>\n<p>5 rows × 43 columns</p>\n</div>"
     },
     "execution_count": 3,
     "metadata": {},
     "output_type": "execute_result"
    }
   ],
   "source": [
    "columns = pd.read_csv(\"D:\\codes\\PY CHAM\\IDS-with-Anomaly-detection-model-main\\dataset\\kddcup.names\", names=['names'])\n",
    "data_train = pd.read_csv(\"D:\\codes\\PY CHAM\\IDS-with-Anomaly-detection-model-main\\dataset\\KDDTrain+.txt\", names=columns[\"names\"])\n",
    "data_test = pd.read_csv(\"D:\\codes\\PY CHAM\\IDS-with-Anomaly-detection-model-main\\dataset\\KDDTest+.txt\", names=columns[\"names\"])\n",
    "\n",
    "d_frame = pd.concat([data_train, data_test], axis=0)\n",
    "\n",
    "d_frame.head()"
   ]
  },
  {
   "cell_type": "code",
   "execution_count": 4,
   "metadata": {
    "editable": false,
    "execution": {
     "iopub.execute_input": "2024-06-05T07:19:19.088305Z",
     "iopub.status.busy": "2024-06-05T07:19:19.087834Z",
     "iopub.status.idle": "2024-06-05T07:19:19.21665Z",
     "shell.execute_reply": "2024-06-05T07:19:19.215343Z",
     "shell.execute_reply.started": "2024-06-05T07:19:19.088265Z"
    }
   },
   "outputs": [],
   "source": [
    "## Preprocessing\n",
    "# Convert categorical labels to binary (0: normal, 1: anomaly)\n",
    "\n",
    "labels = d_frame['class']  \n",
    "labels = labels.apply(lambda x: 0 if x == 'normal' else 1)\n",
    "d_frame['label'] = labels"
   ]
  },
  {
   "cell_type": "code",
   "execution_count": 5,
   "metadata": {
    "editable": false,
    "execution": {
     "iopub.execute_input": "2024-06-05T07:19:19.220311Z",
     "iopub.status.busy": "2024-06-05T07:19:19.219807Z",
     "iopub.status.idle": "2024-06-05T07:19:19.319461Z",
     "shell.execute_reply": "2024-06-05T07:19:19.318295Z",
     "shell.execute_reply.started": "2024-06-05T07:19:19.220267Z"
    }
   },
   "outputs": [
    {
     "data": {
      "text/plain": "   duration protocol_type   service flag  src_bytes  dst_bytes  land  \\\n0         0           tcp  ftp_data   SF        491          0     0   \n1         0           udp     other   SF        146          0     0   \n2         0           tcp   private   S0          0          0     0   \n3         0           tcp      http   SF        232       8153     0   \n4         0           tcp      http   SF        199        420     0   \n\n   wrong_fragment  urgent  hot  ...  dst_host_same_src_port_rate  \\\n0               0       0    0  ...                         0.17   \n1               0       0    0  ...                         0.88   \n2               0       0    0  ...                         0.00   \n3               0       0    0  ...                         0.03   \n4               0       0    0  ...                         0.00   \n\n   dst_host_srv_diff_host_rate  dst_host_serror_rate  \\\n0                         0.00                  0.00   \n1                         0.00                  0.00   \n2                         0.00                  1.00   \n3                         0.04                  0.03   \n4                         0.00                  0.00   \n\n   dst_host_srv_serror_rate  dst_host_rerror_rate  dst_host_srv_rerror_rate  \\\n0                      0.00                  0.05                      0.00   \n1                      0.00                  0.00                      0.00   \n2                      1.00                  0.00                      0.00   \n3                      0.01                  0.00                      0.01   \n4                      0.00                  0.00                      0.00   \n\n     class  target  label  protocol_attack_probability  \n0   normal      20      0                     0.494592  \n1   normal      15      0                     0.193255  \n2  neptune      19      1                     0.494592  \n3   normal      21      0                     0.494592  \n4   normal      21      0                     0.494592  \n\n[5 rows x 45 columns]",
      "text/html": "<div>\n<style scoped>\n    .dataframe tbody tr th:only-of-type {\n        vertical-align: middle;\n    }\n\n    .dataframe tbody tr th {\n        vertical-align: top;\n    }\n\n    .dataframe thead th {\n        text-align: right;\n    }\n</style>\n<table border=\"1\" class=\"dataframe\">\n  <thead>\n    <tr style=\"text-align: right;\">\n      <th></th>\n      <th>duration</th>\n      <th>protocol_type</th>\n      <th>service</th>\n      <th>flag</th>\n      <th>src_bytes</th>\n      <th>dst_bytes</th>\n      <th>land</th>\n      <th>wrong_fragment</th>\n      <th>urgent</th>\n      <th>hot</th>\n      <th>...</th>\n      <th>dst_host_same_src_port_rate</th>\n      <th>dst_host_srv_diff_host_rate</th>\n      <th>dst_host_serror_rate</th>\n      <th>dst_host_srv_serror_rate</th>\n      <th>dst_host_rerror_rate</th>\n      <th>dst_host_srv_rerror_rate</th>\n      <th>class</th>\n      <th>target</th>\n      <th>label</th>\n      <th>protocol_attack_probability</th>\n    </tr>\n  </thead>\n  <tbody>\n    <tr>\n      <th>0</th>\n      <td>0</td>\n      <td>tcp</td>\n      <td>ftp_data</td>\n      <td>SF</td>\n      <td>491</td>\n      <td>0</td>\n      <td>0</td>\n      <td>0</td>\n      <td>0</td>\n      <td>0</td>\n      <td>...</td>\n      <td>0.17</td>\n      <td>0.00</td>\n      <td>0.00</td>\n      <td>0.00</td>\n      <td>0.05</td>\n      <td>0.00</td>\n      <td>normal</td>\n      <td>20</td>\n      <td>0</td>\n      <td>0.494592</td>\n    </tr>\n    <tr>\n      <th>1</th>\n      <td>0</td>\n      <td>udp</td>\n      <td>other</td>\n      <td>SF</td>\n      <td>146</td>\n      <td>0</td>\n      <td>0</td>\n      <td>0</td>\n      <td>0</td>\n      <td>0</td>\n      <td>...</td>\n      <td>0.88</td>\n      <td>0.00</td>\n      <td>0.00</td>\n      <td>0.00</td>\n      <td>0.00</td>\n      <td>0.00</td>\n      <td>normal</td>\n      <td>15</td>\n      <td>0</td>\n      <td>0.193255</td>\n    </tr>\n    <tr>\n      <th>2</th>\n      <td>0</td>\n      <td>tcp</td>\n      <td>private</td>\n      <td>S0</td>\n      <td>0</td>\n      <td>0</td>\n      <td>0</td>\n      <td>0</td>\n      <td>0</td>\n      <td>0</td>\n      <td>...</td>\n      <td>0.00</td>\n      <td>0.00</td>\n      <td>1.00</td>\n      <td>1.00</td>\n      <td>0.00</td>\n      <td>0.00</td>\n      <td>neptune</td>\n      <td>19</td>\n      <td>1</td>\n      <td>0.494592</td>\n    </tr>\n    <tr>\n      <th>3</th>\n      <td>0</td>\n      <td>tcp</td>\n      <td>http</td>\n      <td>SF</td>\n      <td>232</td>\n      <td>8153</td>\n      <td>0</td>\n      <td>0</td>\n      <td>0</td>\n      <td>0</td>\n      <td>...</td>\n      <td>0.03</td>\n      <td>0.04</td>\n      <td>0.03</td>\n      <td>0.01</td>\n      <td>0.00</td>\n      <td>0.01</td>\n      <td>normal</td>\n      <td>21</td>\n      <td>0</td>\n      <td>0.494592</td>\n    </tr>\n    <tr>\n      <th>4</th>\n      <td>0</td>\n      <td>tcp</td>\n      <td>http</td>\n      <td>SF</td>\n      <td>199</td>\n      <td>420</td>\n      <td>0</td>\n      <td>0</td>\n      <td>0</td>\n      <td>0</td>\n      <td>...</td>\n      <td>0.00</td>\n      <td>0.00</td>\n      <td>0.00</td>\n      <td>0.00</td>\n      <td>0.00</td>\n      <td>0.00</td>\n      <td>normal</td>\n      <td>21</td>\n      <td>0</td>\n      <td>0.494592</td>\n    </tr>\n  </tbody>\n</table>\n<p>5 rows × 45 columns</p>\n</div>"
     },
     "execution_count": 5,
     "metadata": {},
     "output_type": "execute_result"
    }
   ],
   "source": [
    "#Feature Engineering\n",
    "\n",
    "# Group by protocol_type and calculate the number of attacks and total records\n",
    "attack_counts = d_frame[d_frame['label'] == 1].groupby('protocol_type').size()\n",
    "total_counts = d_frame.groupby('protocol_type').size()\n",
    "\n",
    "# Calculate the probability of each protocol type record being an attack\n",
    "probability_of_attack = (attack_counts / total_counts).fillna(0)\n",
    "\n",
    "\n",
    "d_frame['protocol_attack_probability'] = d_frame['protocol_type']\n",
    "d_frame['protocol_attack_probability'] = d_frame['protocol_attack_probability'].map(probability_of_attack)\n",
    "\n",
    "d_frame.head()"
   ]
  },
  {
   "cell_type": "code",
   "execution_count": 6,
   "metadata": {
    "editable": false,
    "execution": {
     "iopub.execute_input": "2024-06-05T07:19:19.32171Z",
     "iopub.status.busy": "2024-06-05T07:19:19.321155Z",
     "iopub.status.idle": "2024-06-05T07:19:19.338633Z",
     "shell.execute_reply": "2024-06-05T07:19:19.337244Z",
     "shell.execute_reply.started": "2024-06-05T07:19:19.321666Z"
    }
   },
   "outputs": [
    {
     "data": {
      "text/plain": "   src_bytes  dst_bytes  count  srv_count  num_failed_logins  num_compromised  \\\n0        491          0      2          2                  0                0   \n1        146          0     13          1                  0                0   \n2          0          0    123          6                  0                0   \n3        232       8153      5          5                  0                0   \n4        199        420     30         32                  0                0   \n\n   serror_rate  rerror_rate  num_file_creations  num_shells  \n0          0.0          0.0                   0           0  \n1          0.0          0.0                   0           0  \n2          1.0          0.0                   0           0  \n3          0.2          0.0                   0           0  \n4          0.0          0.0                   0           0  ",
      "text/html": "<div>\n<style scoped>\n    .dataframe tbody tr th:only-of-type {\n        vertical-align: middle;\n    }\n\n    .dataframe tbody tr th {\n        vertical-align: top;\n    }\n\n    .dataframe thead th {\n        text-align: right;\n    }\n</style>\n<table border=\"1\" class=\"dataframe\">\n  <thead>\n    <tr style=\"text-align: right;\">\n      <th></th>\n      <th>src_bytes</th>\n      <th>dst_bytes</th>\n      <th>count</th>\n      <th>srv_count</th>\n      <th>num_failed_logins</th>\n      <th>num_compromised</th>\n      <th>serror_rate</th>\n      <th>rerror_rate</th>\n      <th>num_file_creations</th>\n      <th>num_shells</th>\n    </tr>\n  </thead>\n  <tbody>\n    <tr>\n      <th>0</th>\n      <td>491</td>\n      <td>0</td>\n      <td>2</td>\n      <td>2</td>\n      <td>0</td>\n      <td>0</td>\n      <td>0.0</td>\n      <td>0.0</td>\n      <td>0</td>\n      <td>0</td>\n    </tr>\n    <tr>\n      <th>1</th>\n      <td>146</td>\n      <td>0</td>\n      <td>13</td>\n      <td>1</td>\n      <td>0</td>\n      <td>0</td>\n      <td>0.0</td>\n      <td>0.0</td>\n      <td>0</td>\n      <td>0</td>\n    </tr>\n    <tr>\n      <th>2</th>\n      <td>0</td>\n      <td>0</td>\n      <td>123</td>\n      <td>6</td>\n      <td>0</td>\n      <td>0</td>\n      <td>1.0</td>\n      <td>0.0</td>\n      <td>0</td>\n      <td>0</td>\n    </tr>\n    <tr>\n      <th>3</th>\n      <td>232</td>\n      <td>8153</td>\n      <td>5</td>\n      <td>5</td>\n      <td>0</td>\n      <td>0</td>\n      <td>0.2</td>\n      <td>0.0</td>\n      <td>0</td>\n      <td>0</td>\n    </tr>\n    <tr>\n      <th>4</th>\n      <td>199</td>\n      <td>420</td>\n      <td>30</td>\n      <td>32</td>\n      <td>0</td>\n      <td>0</td>\n      <td>0.0</td>\n      <td>0.0</td>\n      <td>0</td>\n      <td>0</td>\n    </tr>\n  </tbody>\n</table>\n</div>"
     },
     "execution_count": 6,
     "metadata": {},
     "output_type": "execute_result"
    }
   ],
   "source": [
    "#Filter Features\n",
    "\n",
    "col = ['src_bytes','dst_bytes','count','srv_count','num_failed_logins','num_compromised','serror_rate','rerror_rate','num_file_creations','num_shells',]\n",
    "\n",
    "features = d_frame[col]\n",
    "features.head()"
   ]
  },
  {
   "cell_type": "code",
   "execution_count": 7,
   "metadata": {
    "editable": false,
    "execution": {
     "iopub.execute_input": "2024-06-05T07:19:19.340762Z",
     "iopub.status.busy": "2024-06-05T07:19:19.340287Z",
     "iopub.status.idle": "2024-06-05T07:19:19.367343Z",
     "shell.execute_reply": "2024-06-05T07:19:19.366037Z",
     "shell.execute_reply.started": "2024-06-05T07:19:19.340721Z"
    }
   },
   "outputs": [],
   "source": [
    "#Split Dataset\n",
    "\n",
    "X_train, X_test, y_train, y_test = train_test_split(features, labels, test_size=0.3, random_state=52)"
   ]
  },
  {
   "cell_type": "code",
   "execution_count": 8,
   "metadata": {
    "editable": false,
    "execution": {
     "iopub.execute_input": "2024-06-05T07:19:19.369524Z",
     "iopub.status.busy": "2024-06-05T07:19:19.368997Z",
     "iopub.status.idle": "2024-06-05T07:20:52.300142Z",
     "shell.execute_reply": "2024-06-05T07:20:52.298938Z",
     "shell.execute_reply.started": "2024-06-05T07:19:19.369484Z"
    }
   },
   "outputs": [
    {
     "data": {
      "text/plain": "['D:\\\\codes\\\\PY CHAM\\\\IDS-with-Anomaly-detection-model-main\\\\ebest_model.pkl']"
     },
     "execution_count": 8,
     "metadata": {},
     "output_type": "execute_result"
    }
   ],
   "source": [
    "#Train Model using RF Classifier\n",
    "\n",
    "param_dist = {'n_estimators': randint(50,100), 'max_depth': randint(1,20)}\n",
    "\n",
    "rf_classifier = RandomForestClassifier()  \n",
    "\n",
    "# Use random search to find the best hyperparameters\n",
    "rand_search = RandomizedSearchCV(rf_classifier, param_distributions = param_dist, n_iter=5, cv=5)\n",
    "\n",
    "rand_search.fit(X_train, y_train)\n",
    "\n",
    "best_model = rand_search.best_estimator_\n",
    "\n",
    "# Save the best model (if required)\n",
    "joblib.dump(best_model, 'D:\\codes\\PY CHAM\\IDS-with-Anomaly-detection-model-main\\ebest_model.pkl')"
   ]
  },
  {
   "cell_type": "code",
   "execution_count": 10,
   "metadata": {
    "editable": false,
    "execution": {
     "iopub.execute_input": "2024-06-05T07:20:52.302239Z",
     "iopub.status.busy": "2024-06-05T07:20:52.301768Z",
     "iopub.status.idle": "2024-06-05T07:20:52.307665Z",
     "shell.execute_reply": "2024-06-05T07:20:52.306484Z",
     "shell.execute_reply.started": "2024-06-05T07:20:52.302177Z"
    }
   },
   "outputs": [],
   "source": [
    "# Load the best model (if required)\n",
    "rand_search = joblib.load('D:\\codes\\PY CHAM\\IDS-with-Anomaly-detection-model-main\\ebest_model.pkl')"
   ]
  },
  {
   "cell_type": "code",
   "execution_count": 11,
   "metadata": {
    "editable": false,
    "execution": {
     "iopub.execute_input": "2024-06-05T07:20:52.309738Z",
     "iopub.status.busy": "2024-06-05T07:20:52.309319Z",
     "iopub.status.idle": "2024-06-05T07:20:52.728515Z",
     "shell.execute_reply": "2024-06-05T07:20:52.727248Z",
     "shell.execute_reply.started": "2024-06-05T07:20:52.309699Z"
    }
   },
   "outputs": [
    {
     "name": "stdout",
     "output_type": "stream",
     "text": [
      "Accuracy: 0.98\n",
      "Precision: 0.99\n",
      "Recall: 0.96\n",
      "F1-Score: 0.98\n"
     ]
    }
   ],
   "source": [
    "#Prediction and Evaluation\n",
    "\n",
    "y_pred = rand_search.predict(X_test)\n",
    "\n",
    "\n",
    "accuracy = accuracy_score(y_test, y_pred)\n",
    "precision = precision_score(y_test, y_pred)\n",
    "recall = recall_score(y_test, y_pred)\n",
    "f1_score = f1_score(y_test, y_pred)\n",
    "\n",
    "print(f'Accuracy: {accuracy:.2f}')\n",
    "print(f'Precision: {precision:.2f}')\n",
    "print(f'Recall: {recall:.2f}')\n",
    "print(f'F1-Score: {f1_score:.2f}')\n",
    "\n",
    "evaluation_results = {\n",
    "    'accuracy':accuracy ,  # Replace with actual accuracy\n",
    "    'precision':precision, # Replace with actual precision\n",
    "    'recall': recall,    # Replace with actual recall\n",
    "    'f1_score': f1_score   # Replace with actual F1 score\n",
    "}\n"
   ]
  },
  {
   "cell_type": "code",
   "execution_count": 12,
   "metadata": {
    "editable": false,
    "execution": {
     "iopub.execute_input": "2024-06-05T07:20:52.732078Z",
     "iopub.status.busy": "2024-06-05T07:20:52.731667Z",
     "iopub.status.idle": "2024-06-05T07:20:52.750388Z",
     "shell.execute_reply": "2024-06-05T07:20:52.749019Z",
     "shell.execute_reply.started": "2024-06-05T07:20:52.732044Z"
    }
   },
   "outputs": [
    {
     "name": "stdout",
     "output_type": "stream",
     "text": [
      "Confusion Matrix:\n",
      "[[22897   144]\n",
      " [  838 20677]]\n"
     ]
    }
   ],
   "source": [
    "conf_matrix = confusion_matrix(y_test, y_pred)\n",
    "print('Confusion Matrix:')\n",
    "print(conf_matrix)"
   ]
  },
  {
   "cell_type": "code",
   "execution_count": 13,
   "id": "89c45f34",
   "metadata": {},
   "outputs": [
    {
     "data": {
      "text/plain": "<Figure size 800x600 with 1 Axes>",
      "image/png": "[encoded data removed]"
     },
     "metadata": {},
     "output_type": "display_data"
    }
   ],
   "source": [
    "categories = ['Accuracy', 'Precision', 'Recall', 'F1-Score']\n",
    "values = [evaluation_results['accuracy'], \n",
    "          evaluation_results['precision'], \n",
    "          evaluation_results['recall'], \n",
    "          evaluation_results['f1_score']]\n",
    "\n",
    "plt.figure(figsize=(8, 6))\n",
    "plt.bar(categories, values, color='skyblue')\n",
    "plt.title('Model Evaluation Metrics')\n",
    "plt.ylabel('Score')\n",
    "plt.ylim(0.9, 1)\n",
    "plt.show()\n"
   ]
  },
  {
   "cell_type": "code",
   "execution_count": 14,
   "id": "aecb79de",
   "metadata": {},
   "outputs": [
    {
     "data": {
      "text/plain": "<Figure size 640x480 with 2 Axes>",
      "image/png": "[encoded data removed]"
     },
     "metadata": {},
     "output_type": "display_data"
    }
   ],
   "source": [
    "ConfusionMatrixDisplay.from_predictions(y_test, y_pred,cmap='binary')\n",
    "plt.title('Confusion Matrix')\n",
    "\n",
    "plt.show()\n"
   ]
  }
 ],
 "metadata": {
  "kaggle": {
   "accelerator": "none",
   "dataSources": [
    {
     "datasetId": 174616,
     "sourceId": 394223,
     "sourceType": "datasetVersion"
    },
    {
     "datasetId": 4321448,
     "sourceId": 7619412,
     "sourceType": "datasetVersion"
    }
   ],
   "dockerImageVersionId": 30715,
   "isGpuEnabled": false,
   "isInternetEnabled": false,
   "language": "python",
   "sourceType": "notebook"
  },
  "kernelspec": {
   "display_name": "Python 3",
   "language": "python",
   "name": "python3"
  },
  "language_info": {
   "codemirror_mode": {
    "name": "ipython",
    "version": 3
   },
   "file_extension": ".py",
   "mimetype": "text/x-python",
   "name": "python",
   "nbconvert_exporter": "python",
   "pygments_lexer": "ipython3",
   "version": "3.10.13"
  }
 },
 "nbformat": 4,
 "nbformat_minor": 4
}
